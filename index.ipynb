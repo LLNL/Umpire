{
 "cells": [
  {
   "cell_type": "code",
   "execution_count": 3,
   "metadata": {},
   "outputs": [],
   "source": [
    "#pragma cling add_include_path(\"include\")\n",
    "#pragma cling add_library_path(\"lib\")\n",
    "#pragma cling load(\"libumpire\")"
   ]
  },
  {
   "cell_type": "markdown",
   "metadata": {},
   "source": [
    "# Resource Manager\n",
    "\n",
    "Umpire's `ResourceManager` is the main object used to access all of the objects that Umpire provides. To get a reference to the manager, you can use the `getInstance` method:"
   ]
  },
  {
   "cell_type": "code",
   "execution_count": 4,
   "metadata": {},
   "outputs": [],
   "source": [
    "#include \"umpire/ResourceManager.hpp\"\n",
    "\n",
    "auto& rm = umpire::ResourceManager::getInstance();"
   ]
  },
  {
   "cell_type": "markdown",
   "metadata": {},
   "source": [
    "The `ResourceManager` can be used to access `Allocator`s. An `Allocator` is an object that is used to allocate, deallocate, and introspect memory."
   ]
  },
  {
   "cell_type": "code",
   "execution_count": 5,
   "metadata": {},
   "outputs": [],
   "source": [
    "auto alloc = rm.getAllocator(\"HOST\");"
   ]
  },
  {
   "cell_type": "markdown",
   "metadata": {},
   "source": [
    "In the previous cell, we grabbed the \"HOST\" `Allocator`. Depneding on how your system is configured, Umpire will create a number of predefined allocators for the available memory resources. The list of predefined Allocators is:\n",
    "\n",
    "- `\"HOST\"`: available on all systems, provides access to regular DDR memory.\n",
    "- `\"DEVICE\"`: available with CUDA or HIP, provides access to GPU memory.\n",
    "- `\"UM\"`: available with CUDA, provides \"unified\" memory accesibly on the host or GPU.\n",
    "- `\"PINNED\"`: avaible with CUDA or HIP, provides access to pinned DDR memory."
   ]
  },
  {
   "cell_type": "code",
   "execution_count": 6,
   "metadata": {},
   "outputs": [],
   "source": [
    "#include \"umpire/strategy/DynamicPool.hpp\"\n",
    "auto pool = rm.makeAllocator<umpire::strategy::DynamicPool>(\"pool\", alloc);"
   ]
  },
  {
   "cell_type": "code",
   "execution_count": 7,
   "metadata": {},
   "outputs": [],
   "source": [
    "void* data = pool.allocate(1024);"
   ]
  },
  {
   "cell_type": "code",
   "execution_count": 8,
   "metadata": {},
   "outputs": [
    {
     "name": "stdout",
     "output_type": "stream",
     "text": [
      "0x7fdba3fff010\n"
     ]
    }
   ],
   "source": [
    "std::cout << data << std::endl;"
   ]
  },
  {
   "cell_type": "code",
   "execution_count": 9,
   "metadata": {},
   "outputs": [],
   "source": [
    "pool.getActualSize();"
   ]
  },
  {
   "cell_type": "code",
   "execution_count": 10,
   "metadata": {},
   "outputs": [
    {
     "name": "stdout",
     "output_type": "stream",
     "text": [
      "536870912\n"
     ]
    }
   ],
   "source": [
    "std::cout << pool.getActualSize() << std::endl;"
   ]
  },
  {
   "cell_type": "code",
   "execution_count": 11,
   "metadata": {},
   "outputs": [
    {
     "name": "stdout",
     "output_type": "stream",
     "text": [
      "1024\n"
     ]
    }
   ],
   "source": [
    "std::cout << pool.getCurrentSize() << std::endl;"
   ]
  },
  {
   "cell_type": "code",
   "execution_count": 12,
   "metadata": {},
   "outputs": [],
   "source": [
    "pool.deallocate(data);"
   ]
  },
  {
   "cell_type": "code",
   "execution_count": 13,
   "metadata": {},
   "outputs": [
    {
     "name": "stdout",
     "output_type": "stream",
     "text": [
      "536870912\n",
      "0\n"
     ]
    }
   ],
   "source": [
    "std::cout << pool.getActualSize() << std::endl;\n",
    "std::cout << pool.getCurrentSize() << std::endl;"
   ]
  },
  {
   "cell_type": "code",
   "execution_count": 14,
   "metadata": {},
   "outputs": [],
   "source": [
    "pool.release();"
   ]
  },
  {
   "cell_type": "code",
   "execution_count": 15,
   "metadata": {},
   "outputs": [
    {
     "name": "stdout",
     "output_type": "stream",
     "text": [
      "0\n",
      "0\n"
     ]
    }
   ],
   "source": [
    "std::cout << pool.getActualSize() << std::endl;\n",
    "std::cout << pool.getCurrentSize() << std::endl;"
   ]
  },
  {
   "cell_type": "code",
   "execution_count": null,
   "metadata": {},
   "outputs": [],
   "source": []
  }
 ],
 "metadata": {
  "kernelspec": {
   "display_name": "C++11",
   "language": "C++11",
   "name": "xcpp11"
  },
  "language_info": {
   "codemirror_mode": "text/x-c++src",
   "file_extension": ".cpp",
   "mimetype": "text/x-c++src",
   "name": "c++",
   "version": "-std=c++11"
  }
 },
 "nbformat": 4,
 "nbformat_minor": 2
}
